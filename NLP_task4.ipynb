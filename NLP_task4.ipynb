#各位小伙伴，《Task04：基于深度学习的文本分类1（2天）》的打卡到7月27日23:59截止哦！记得按时完成打卡任务~欢迎大家踊跃推荐自己的笔记，我将选择部分优秀作品推荐到“优秀作品参考”，下一个大佬就是你！同时，没有按时完成的小伙伴可能会被抱出群哦~加油！

#学习内容：https://github.com/datawhalechina/team-learning-nlp/blob/master/NewsTextClassification/Task4%20%E5%9F%BA%E4%BA%8E%E6%B7%B1%E5%BA%A6%E5%AD%A6%E4%B9%A0%E7%9A%84%E6%96%87%E6%9C%AC%E5%88%86%E7%B1%BB1.md

#打卡截止：07月27日 23：59

#天池链接：https://tianchi.aliyun.com/notebook-ai/detail?spm=5176.12586969.1002.15.6406111aIKCSLV&postId=118255

#打卡链接：https://shimo.im/forms/CJLOYXeo7K8t4yun/fill 
#打卡结果：https://shimo.im/sheets/vVAXVYVwgrINnwqm/MODOC/
